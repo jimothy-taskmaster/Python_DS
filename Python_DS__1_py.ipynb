{
  "nbformat": 4,
  "nbformat_minor": 0,
  "metadata": {
    "colab": {
      "name": "Python_DS _1.py",
      "provenance": [],
      "authorship_tag": "ABX9TyMMY8gMKlsMpZ/F8CH2otLG",
      "include_colab_link": true
    },
    "kernelspec": {
      "name": "python3",
      "display_name": "Python 3"
    },
    "language_info": {
      "name": "python"
    }
  },
  "cells": [
    {
      "cell_type": "markdown",
      "metadata": {
        "id": "view-in-github",
        "colab_type": "text"
      },
      "source": [
        "<a href=\"https://colab.research.google.com/github/jimothy-taskmaster/Python_DS/blob/main/Python_DS__1_py.ipynb\" target=\"_parent\"><img src=\"https://colab.research.google.com/assets/colab-badge.svg\" alt=\"Open In Colab\"/></a>"
      ]
    },
    {
      "cell_type": "code",
      "execution_count": 2,
      "metadata": {
        "colab": {
          "base_uri": "https://localhost:8080/"
        },
        "id": "tbt_wo5zEKc-",
        "outputId": "42720838-2023-4963-d3a3-c2632388eea0"
      },
      "outputs": [
        {
          "output_type": "stream",
          "name": "stdout",
          "text": [
            "['female']\n"
          ]
        }
      ],
      "source": [
        "from sklearn import tree\n",
        "\n",
        "#height weight shoe size\n",
        "X=[ \n",
        "   [181,80,44],[ 177,70,43] ,[160,60,38] ,[154,54,37],[166,65,40],\n",
        "   [190,90,47] ,[175,64,39] , [177,70,40] ,[159,55,37],[171,75,42],\n",
        "   [181,85,43]\n",
        "]\n",
        "\n",
        "Y=['male' ,'female','female','female','male','male',\n",
        "   'male','female','male','female','male']\n",
        "\n",
        "clf = tree.DecisionTreeClassifier()\n",
        "\n",
        "clf=clf.fit(X,Y)\n",
        "\n",
        "prediction=clf.predict([[190,70,43]])\n",
        "\n",
        "print(prediction)\n"
      ]
    },
    {
      "cell_type": "markdown",
      "source": [
        "K Nearest Neighbours"
      ],
      "metadata": {
        "id": "Rva2ehgtPPiE"
      }
    },
    {
      "cell_type": "code",
      "source": [
        "from sklearn.neighbors import KNeighborsClassifier\n",
        "#ML algos require numerical input and output so to encode\n",
        "#the features and labels into their numerical counterparts\n",
        "# we can use preprocessing\n",
        "\n",
        "from sklearn import preprocessing\n",
        "\n",
        "le =preprocessing.LabelEncoder()\n",
        "\n",
        "X=[ \n",
        "   [181,80,44],[ 177,70,43] ,[160,60,38] ,[154,54,37],[166,65,40],\n",
        "   [190,90,47] ,[175,64,39] , [177,70,40] ,[159,55,37],[171,75,42],\n",
        "   [181,85,43]\n",
        "]\n",
        "\n",
        "Y=['male' ,'female','female','female','male','male',\n",
        "   'male','female','male','female','male']\n",
        "\n",
        "#converting Y label into Numerical Counterpart\n",
        "Y=le.fit_transform(Y)\n",
        "\n",
        "print(Y)\n",
        "\n",
        "#now lets create a KNN model\n",
        "model=KNeighborsClassifier(n_neighbors=2)\n",
        "\n",
        "model.fit(X,Y)\n",
        "\n",
        "predict=model.predict([[190,70,43]])\n",
        "\n",
        "print(predict)\n",
        "\n"
      ],
      "metadata": {
        "colab": {
          "base_uri": "https://localhost:8080/"
        },
        "id": "GUd5_otMPOl6",
        "outputId": "807e9ca8-97f0-40ab-ff08-e95682e1de53"
      },
      "execution_count": 4,
      "outputs": [
        {
          "output_type": "stream",
          "name": "stdout",
          "text": [
            "[1 0 0 0 1 1 1 0 1 0 1]\n",
            "[0]\n"
          ]
        }
      ]
    }
  ]
}